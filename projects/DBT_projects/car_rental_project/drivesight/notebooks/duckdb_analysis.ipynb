{
 "cells": [
  {
   "cell_type": "markdown",
   "id": "3909890b",
   "metadata": {},
   "source": [
    "\n",
    "# DriveSight Data Analysis with DuckDB\n",
    "\n",
    "**Purpose:** Analyze FINN car subscription data to validate dbt transformations and explore business insights"
   ]
  },
  {
   "cell_type": "code",
   "execution_count": 158,
   "id": "a743aee7",
   "metadata": {},
   "outputs": [],
   "source": [
    "# Installing required packages\n",
    "# !pip install numpy\n",
    "# !pip install pandas"
   ]
  },
  {
   "cell_type": "code",
   "execution_count": 1,
   "id": "e6ba98da",
   "metadata": {},
   "outputs": [],
   "source": [
    "# Import required libraries for data analysis\n",
    "import duckdb\n",
    "import numpy\n",
    "import pandas"
   ]
  },
  {
   "cell_type": "code",
   "execution_count": 2,
   "id": "fbf049ee",
   "metadata": {},
   "outputs": [],
   "source": [
    "# Connect to the DuckDB database file\n",
    "# NOTE: Path is relative to notebook location\n",
    "dev_dbdir = '../../FINN.duckdb'"
   ]
  },
  {
   "cell_type": "code",
   "execution_count": 9,
   "id": "01d25e55",
   "metadata": {},
   "outputs": [
    {
     "name": "stdout",
     "output_type": "stream",
     "text": [
      "Count of records in main_bronze.brz_cars: 1200\n",
      "Count of records in main_bronze.brz_customers: 550\n",
      "Count of records in main_bronze.brz_subscriptions: 1200\n",
      "Count of records in main_silver.slv_cars: 1200\n",
      "Count of records in main_silver.slv_customers: 550\n",
      "Count of records in main_silver.slv_subscriptions: 1200\n",
      "Count of records in main_gold.gld_active_customer_type_share: 0\n",
      "Count of records in main_gold.gld_cars_infleet_defleet_volume: 1295\n",
      "Count of records in main_gold.gld_city_weekly_delivery_increase: 778\n",
      "Count of records in main_gold.gld_customer_type_distribution_per_term: 4\n"
     ]
    }
   ],
   "source": [
    "# Validating the count of records in each table after running dbt\n",
    "\n",
    "schemas = [\"main_bronze\", \"main_silver\", \"main_gold\"]\n",
    "\n",
    "with duckdb.connect(f'{dev_dbdir}') as conn:\n",
    "    for schema in schemas:\n",
    "        get_table_query = f\"\"\"\n",
    "        SELECT table_name\n",
    "        FROM information_schema.tables \n",
    "        WHERE table_schema = '{schema}'\n",
    "        \"\"\"\n",
    "        tables = conn.sql(get_table_query).fetchall()\n",
    "\n",
    "        for table_row in tables:\n",
    "            table_name = table_row[0]\n",
    "            count_query = f\"\"\"\n",
    "            SELECT COUNT(*) as count FROM {schema}.{table_name}\n",
    "            \"\"\"\n",
    "            count = conn.sql(count_query).fetchone()[0]\n",
    "            print(f\"Count of records in {schema}.{table_name}: {count}\")\n"
   ]
  },
  {
   "cell_type": "code",
   "execution_count": 4,
   "id": "f598e0c3",
   "metadata": {},
   "outputs": [
    {
     "name": "stdout",
     "output_type": "stream",
     "text": [
      "Source tables available for analysis:\n"
     ]
    },
    {
     "data": {
      "text/html": [
       "<div>\n",
       "<style scoped>\n",
       "    .dataframe tbody tr th:only-of-type {\n",
       "        vertical-align: middle;\n",
       "    }\n",
       "\n",
       "    .dataframe tbody tr th {\n",
       "        vertical-align: top;\n",
       "    }\n",
       "\n",
       "    .dataframe thead th {\n",
       "        text-align: right;\n",
       "    }\n",
       "</style>\n",
       "<table border=\"1\" class=\"dataframe\">\n",
       "  <thead>\n",
       "    <tr style=\"text-align: right;\">\n",
       "      <th></th>\n",
       "      <th>table_name</th>\n",
       "    </tr>\n",
       "  </thead>\n",
       "  <tbody>\n",
       "    <tr>\n",
       "      <th>0</th>\n",
       "      <td>cars</td>\n",
       "    </tr>\n",
       "    <tr>\n",
       "      <th>1</th>\n",
       "      <td>customers</td>\n",
       "    </tr>\n",
       "    <tr>\n",
       "      <th>2</th>\n",
       "      <td>invoice_line_items</td>\n",
       "    </tr>\n",
       "    <tr>\n",
       "      <th>3</th>\n",
       "      <td>invoices</td>\n",
       "    </tr>\n",
       "    <tr>\n",
       "      <th>4</th>\n",
       "      <td>subscriptions</td>\n",
       "    </tr>\n",
       "  </tbody>\n",
       "</table>\n",
       "</div>"
      ],
      "text/plain": [
       "           table_name\n",
       "0                cars\n",
       "1           customers\n",
       "2  invoice_line_items\n",
       "3            invoices\n",
       "4       subscriptions"
      ]
     },
     "execution_count": 4,
     "metadata": {},
     "output_type": "execute_result"
    }
   ],
   "source": [
    "# Query to explore available tables in the main schema\n",
    "# This shows the source tables available for analysis\n",
    "query = \"\"\"\n",
    "SELECT table_name\n",
    "FROM information_schema.tables \n",
    "WHERE table_schema = 'main'\n",
    "ORDER BY table_name\n",
    "\"\"\"\n",
    "with duckdb.connect(f'{dev_dbdir}') as conn:\n",
    "    src_df = conn.sql(query).fetchdf()\n",
    "print(\"Source tables available for analysis:\")\n",
    "src_df.head(100)"
   ]
  },
  {
   "cell_type": "code",
   "execution_count": 5,
   "id": "f4ab80f8",
   "metadata": {},
   "outputs": [
    {
     "name": "stdout",
     "output_type": "stream",
     "text": [
      "Schemas available for analysis:\n"
     ]
    },
    {
     "data": {
      "text/html": [
       "<div>\n",
       "<style scoped>\n",
       "    .dataframe tbody tr th:only-of-type {\n",
       "        vertical-align: middle;\n",
       "    }\n",
       "\n",
       "    .dataframe tbody tr th {\n",
       "        vertical-align: top;\n",
       "    }\n",
       "\n",
       "    .dataframe thead th {\n",
       "        text-align: right;\n",
       "    }\n",
       "</style>\n",
       "<table border=\"1\" class=\"dataframe\">\n",
       "  <thead>\n",
       "    <tr style=\"text-align: right;\">\n",
       "      <th></th>\n",
       "      <th>table_schema</th>\n",
       "    </tr>\n",
       "  </thead>\n",
       "  <tbody>\n",
       "    <tr>\n",
       "      <th>0</th>\n",
       "      <td>main</td>\n",
       "    </tr>\n",
       "    <tr>\n",
       "      <th>1</th>\n",
       "      <td>main_main_gold</td>\n",
       "    </tr>\n",
       "    <tr>\n",
       "      <th>2</th>\n",
       "      <td>main_main_silver</td>\n",
       "    </tr>\n",
       "    <tr>\n",
       "      <th>3</th>\n",
       "      <td>main_dbt_test__audit</td>\n",
       "    </tr>\n",
       "    <tr>\n",
       "      <th>4</th>\n",
       "      <td>main_main_bronze</td>\n",
       "    </tr>\n",
       "    <tr>\n",
       "      <th>5</th>\n",
       "      <td>main_bronze</td>\n",
       "    </tr>\n",
       "    <tr>\n",
       "      <th>6</th>\n",
       "      <td>main_gold</td>\n",
       "    </tr>\n",
       "    <tr>\n",
       "      <th>7</th>\n",
       "      <td>main_silver</td>\n",
       "    </tr>\n",
       "    <tr>\n",
       "      <th>8</th>\n",
       "      <td>main_silver_snapshots</td>\n",
       "    </tr>\n",
       "  </tbody>\n",
       "</table>\n",
       "</div>"
      ],
      "text/plain": [
       "            table_schema\n",
       "0                   main\n",
       "1         main_main_gold\n",
       "2       main_main_silver\n",
       "3   main_dbt_test__audit\n",
       "4       main_main_bronze\n",
       "5            main_bronze\n",
       "6              main_gold\n",
       "7            main_silver\n",
       "8  main_silver_snapshots"
      ]
     },
     "execution_count": 5,
     "metadata": {},
     "output_type": "execute_result"
    }
   ],
   "source": [
    "schemas_query = \"\"\"\n",
    "    SELECT distinct table_schema\n",
    "    FROM information_schema.tables \n",
    "\"\"\"\n",
    "\n",
    "with duckdb.connect(f'{dev_dbdir}') as conn:\n",
    "    schema_df = conn.sql(schemas_query).fetchdf()\n",
    "print(\"Schemas available for analysis:\")\n",
    "schema_df.head(100)"
   ]
  },
  {
   "cell_type": "code",
   "execution_count": 6,
   "id": "3d9c931a",
   "metadata": {},
   "outputs": [
    {
     "data": {
      "text/html": [
       "<div>\n",
       "<style scoped>\n",
       "    .dataframe tbody tr th:only-of-type {\n",
       "        vertical-align: middle;\n",
       "    }\n",
       "\n",
       "    .dataframe tbody tr th {\n",
       "        vertical-align: top;\n",
       "    }\n",
       "\n",
       "    .dataframe thead th {\n",
       "        text-align: right;\n",
       "    }\n",
       "</style>\n",
       "<table border=\"1\" class=\"dataframe\">\n",
       "  <thead>\n",
       "    <tr style=\"text-align: right;\">\n",
       "      <th></th>\n",
       "      <th>database_name</th>\n",
       "    </tr>\n",
       "  </thead>\n",
       "  <tbody>\n",
       "    <tr>\n",
       "      <th>0</th>\n",
       "      <td>finn</td>\n",
       "    </tr>\n",
       "  </tbody>\n",
       "</table>\n",
       "</div>"
      ],
      "text/plain": [
       "  database_name\n",
       "0          finn"
      ]
     },
     "execution_count": 6,
     "metadata": {},
     "output_type": "execute_result"
    }
   ],
   "source": [
    "schemas_query = \"\"\"\n",
    "    SHOW DATABASES\n",
    "\"\"\"\n",
    "\n",
    "with duckdb.connect(f'{dev_dbdir}') as conn:\n",
    "    schema_df = conn.sql(schemas_query).fetchdf()\n",
    "schema_df.head(100)"
   ]
  },
  {
   "cell_type": "code",
   "execution_count": null,
   "id": "e9b3a774",
   "metadata": {},
   "outputs": [],
   "source": []
  }
 ],
 "metadata": {
  "kernelspec": {
   "display_name": "venv",
   "language": "python",
   "name": "python3"
  },
  "language_info": {
   "codemirror_mode": {
    "name": "ipython",
    "version": 3
   },
   "file_extension": ".py",
   "mimetype": "text/x-python",
   "name": "python",
   "nbconvert_exporter": "python",
   "pygments_lexer": "ipython3",
   "version": "3.13.5"
  }
 },
 "nbformat": 4,
 "nbformat_minor": 5
}
